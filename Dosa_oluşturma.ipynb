{
 "cells": [
  {
   "cell_type": "markdown",
   "id": "60b4a01b-49fa-408b-8f1e-3aac79ba5918",
   "metadata": {},
   "source": [
    "## Dosya oluşturma, okuma ve yazma "
   ]
  },
  {
   "cell_type": "code",
   "execution_count": 1,
   "id": "1270ce51-2990-4dcc-9609-02481ae3f236",
   "metadata": {},
   "outputs": [
    {
     "name": "stdout",
     "output_type": "stream",
     "text": [
      "Help on built-in function open in module io:\n",
      "\n",
      "open(file, mode='r', buffering=-1, encoding=None, errors=None, newline=None, closefd=True, opener=None)\n",
      "    Open file and return a stream.  Raise OSError upon failure.\n",
      "    \n",
      "    file is either a text or byte string giving the name (and the path\n",
      "    if the file isn't in the current working directory) of the file to\n",
      "    be opened or an integer file descriptor of the file to be\n",
      "    wrapped. (If a file descriptor is given, it is closed when the\n",
      "    returned I/O object is closed, unless closefd is set to False.)\n",
      "    \n",
      "    mode is an optional string that specifies the mode in which the file\n",
      "    is opened. It defaults to 'r' which means open for reading in text\n",
      "    mode.  Other common values are 'w' for writing (truncating the file if\n",
      "    it already exists), 'x' for creating and writing to a new file, and\n",
      "    'a' for appending (which on some Unix systems, means that all writes\n",
      "    append to the end of the file regardless of the current seek position).\n",
      "    In text mode, if encoding is not specified the encoding used is platform\n",
      "    dependent: locale.getpreferredencoding(False) is called to get the\n",
      "    current locale encoding. (For reading and writing raw bytes use binary\n",
      "    mode and leave encoding unspecified.) The available modes are:\n",
      "    \n",
      "    ========= ===============================================================\n",
      "    Character Meaning\n",
      "    --------- ---------------------------------------------------------------\n",
      "    'r'       open for reading (default)\n",
      "    'w'       open for writing, truncating the file first\n",
      "    'x'       create a new file and open it for writing\n",
      "    'a'       open for writing, appending to the end of the file if it exists\n",
      "    'b'       binary mode\n",
      "    't'       text mode (default)\n",
      "    '+'       open a disk file for updating (reading and writing)\n",
      "    'U'       universal newline mode (deprecated)\n",
      "    ========= ===============================================================\n",
      "    \n",
      "    The default mode is 'rt' (open for reading text). For binary random\n",
      "    access, the mode 'w+b' opens and truncates the file to 0 bytes, while\n",
      "    'r+b' opens the file without truncation. The 'x' mode implies 'w' and\n",
      "    raises an `FileExistsError` if the file already exists.\n",
      "    \n",
      "    Python distinguishes between files opened in binary and text modes,\n",
      "    even when the underlying operating system doesn't. Files opened in\n",
      "    binary mode (appending 'b' to the mode argument) return contents as\n",
      "    bytes objects without any decoding. In text mode (the default, or when\n",
      "    't' is appended to the mode argument), the contents of the file are\n",
      "    returned as strings, the bytes having been first decoded using a\n",
      "    platform-dependent encoding or using the specified encoding if given.\n",
      "    \n",
      "    'U' mode is deprecated and will raise an exception in future versions\n",
      "    of Python.  It has no effect in Python 3.  Use newline to control\n",
      "    universal newlines mode.\n",
      "    \n",
      "    buffering is an optional integer used to set the buffering policy.\n",
      "    Pass 0 to switch buffering off (only allowed in binary mode), 1 to select\n",
      "    line buffering (only usable in text mode), and an integer > 1 to indicate\n",
      "    the size of a fixed-size chunk buffer.  When no buffering argument is\n",
      "    given, the default buffering policy works as follows:\n",
      "    \n",
      "    * Binary files are buffered in fixed-size chunks; the size of the buffer\n",
      "      is chosen using a heuristic trying to determine the underlying device's\n",
      "      \"block size\" and falling back on `io.DEFAULT_BUFFER_SIZE`.\n",
      "      On many systems, the buffer will typically be 4096 or 8192 bytes long.\n",
      "    \n",
      "    * \"Interactive\" text files (files for which isatty() returns True)\n",
      "      use line buffering.  Other text files use the policy described above\n",
      "      for binary files.\n",
      "    \n",
      "    encoding is the name of the encoding used to decode or encode the\n",
      "    file. This should only be used in text mode. The default encoding is\n",
      "    platform dependent, but any encoding supported by Python can be\n",
      "    passed.  See the codecs module for the list of supported encodings.\n",
      "    \n",
      "    errors is an optional string that specifies how encoding errors are to\n",
      "    be handled---this argument should not be used in binary mode. Pass\n",
      "    'strict' to raise a ValueError exception if there is an encoding error\n",
      "    (the default of None has the same effect), or pass 'ignore' to ignore\n",
      "    errors. (Note that ignoring encoding errors can lead to data loss.)\n",
      "    See the documentation for codecs.register or run 'help(codecs.Codec)'\n",
      "    for a list of the permitted encoding error strings.\n",
      "    \n",
      "    newline controls how universal newlines works (it only applies to text\n",
      "    mode). It can be None, '', '\\n', '\\r', and '\\r\\n'.  It works as\n",
      "    follows:\n",
      "    \n",
      "    * On input, if newline is None, universal newlines mode is\n",
      "      enabled. Lines in the input can end in '\\n', '\\r', or '\\r\\n', and\n",
      "      these are translated into '\\n' before being returned to the\n",
      "      caller. If it is '', universal newline mode is enabled, but line\n",
      "      endings are returned to the caller untranslated. If it has any of\n",
      "      the other legal values, input lines are only terminated by the given\n",
      "      string, and the line ending is returned to the caller untranslated.\n",
      "    \n",
      "    * On output, if newline is None, any '\\n' characters written are\n",
      "      translated to the system default line separator, os.linesep. If\n",
      "      newline is '' or '\\n', no translation takes place. If newline is any\n",
      "      of the other legal values, any '\\n' characters written are translated\n",
      "      to the given string.\n",
      "    \n",
      "    If closefd is False, the underlying file descriptor will be kept open\n",
      "    when the file is closed. This does not work when a file name is given\n",
      "    and must be True in that case.\n",
      "    \n",
      "    A custom opener can be used by passing a callable as *opener*. The\n",
      "    underlying file descriptor for the file object is then obtained by\n",
      "    calling *opener* with (*file*, *flags*). *opener* must return an open\n",
      "    file descriptor (passing os.open as *opener* results in functionality\n",
      "    similar to passing None).\n",
      "    \n",
      "    open() returns a file object whose type depends on the mode, and\n",
      "    through which the standard file operations such as reading and writing\n",
      "    are performed. When open() is used to open a file in a text mode ('w',\n",
      "    'r', 'wt', 'rt', etc.), it returns a TextIOWrapper. When used to open\n",
      "    a file in a binary mode, the returned class varies: in read binary\n",
      "    mode, it returns a BufferedReader; in write binary and append binary\n",
      "    modes, it returns a BufferedWriter, and in read/write mode, it returns\n",
      "    a BufferedRandom.\n",
      "    \n",
      "    It is also possible to use a string or bytearray as a file for both\n",
      "    reading and writing. For strings StringIO can be used like a file\n",
      "    opened in a text mode, and for bytes a BytesIO can be used like a file\n",
      "    opened in a binary mode.\n",
      "\n"
     ]
    }
   ],
   "source": [
    "help(open)"
   ]
  },
  {
   "cell_type": "markdown",
   "id": "7e0e70ee-0a8b-4796-aecf-f7a2c125a3e4",
   "metadata": {},
   "source": [
    "### open(file, mode='r', buffering=-1, encoding=None, errors=None, newline=None, closefd=True, opener=None)"
   ]
  },
  {
   "cell_type": "markdown",
   "id": "488cb403-fed5-473b-b814-9d537a8eae6f",
   "metadata": {},
   "source": [
    "Mode\n",
    "\n",
    "\"r\"\n",
    "\n",
    "Default değer. Bu kip dosyayı okuma yetkisiyle açar. Ancak bu kipi kullanabilmemiz için, ilgili dosyanın disk üzerinde halihazırda var olması gerekir. Eğer bu kipte açılmak istenen dosya mevcut değilse Python bize bir hata mesajı gösterecektir. \n",
    "\n",
    "\"w\"\n",
    "\n",
    "Bu kip dosyayı yazma yetkisiyle açar. Eğer belirttiğiniz adda bir dosya zaten disk üzerinde varsa, Python hiçbir şey sormadan dosya içeriğini silecektir. Eğer belirttiğiniz adda bir dosya diskte yoksa, Python o adda bir dosyayı otomatik olarak oluşturur.\n",
    "\n",
    "\"a\"\n",
    "\n",
    "Bu kip dosyayı yazma yetkisiyle açar. Eğer dosya zaten disk üzerinde mevcutsa içeriğinde herhangi bir değişiklik yapılmaz. Bu kipte açtığınız bir dosyaya eklediğiniz veriler varolan verilere ilave edilir. Eğer belirttiğiniz adda bir dosya yoksa Python otomatik olarak o adda bir dosyayı sizin için oluşturacaktır.\n",
    "\n",
    "\"x\"\n",
    "\n",
    "Bu kip dosyayı yazma yetkisiyle açar. Eğer belirttiğiniz adda bir dosya zaten disk üzerinde varsa, Python varolan dosyayı silmek yerine size bir hata mesajı gösterir. Zaten bu kipin “w” kipinden farkı, varolan dosyaları silmemesidir. Eğer belirttiğiniz adda bir dosya diskte yoksa, bu kip yardımıyla o ada sahip bir dosya oluşturabilirsiniz."
   ]
  },
  {
   "cell_type": "code",
   "execution_count": 3,
   "id": "642249eb-ee41-4021-841b-ac1679f329d2",
   "metadata": {},
   "outputs": [
    {
     "data": {
      "text/plain": [
       "<_io.TextIOWrapper name='liste.txt' mode='r' encoding='cp1252'>"
      ]
     },
     "execution_count": 3,
     "metadata": {},
     "output_type": "execute_result"
    }
   ],
   "source": [
    "open(\"liste.txt\")   # cp1254 win varsayılan, utf-8 linux varsayyılan "
   ]
  },
  {
   "cell_type": "code",
   "execution_count": 5,
   "id": "d05e85d6-6d31-4cf4-af44-3e24a1eadcdf",
   "metadata": {},
   "outputs": [
    {
     "data": {
      "text/plain": [
       "<_io.TextIOWrapper name='C:\\\\Users\\\\yusuf\\\\Desktop\\\\Python Lessons\\\\Session_ders_advance\\\\liste.txt' mode='r' encoding='cp1252'>"
      ]
     },
     "execution_count": 5,
     "metadata": {},
     "output_type": "execute_result"
    }
   ],
   "source": [
    "open(r\"C:\\Users\\yusuf\\Desktop\\Python Lessons\\Session_ders_advance\\liste.txt\")"
   ]
  },
  {
   "cell_type": "code",
   "execution_count": 8,
   "id": "3d8d1470-9511-496f-bc54-8befe801ba1e",
   "metadata": {},
   "outputs": [
    {
     "ename": "SyntaxError",
     "evalue": "(unicode error) 'unicodeescape' codec can't decode bytes in position 2-3: truncated \\UXXXXXXXX escape (53175339.py, line 1)",
     "output_type": "error",
     "traceback": [
      "\u001b[1;36m  Cell \u001b[1;32mIn [8], line 1\u001b[1;36m\u001b[0m\n\u001b[1;33m    open(\"C:\\Users\\yusuf\\Desktop\\Python Lessons\\Session_ders_advance\\liste.txt\")\u001b[0m\n\u001b[1;37m                                                                               ^\u001b[0m\n\u001b[1;31mSyntaxError\u001b[0m\u001b[1;31m:\u001b[0m (unicode error) 'unicodeescape' codec can't decode bytes in position 2-3: truncated \\UXXXXXXXX escape\n"
     ]
    }
   ],
   "source": [
    "open(\"C:\\Users\\yusuf\\Desktop\\Python Lessons\\Session_ders_advance\\liste.txt\")"
   ]
  },
  {
   "cell_type": "code",
   "execution_count": 6,
   "id": "508cb795-8fd1-4d96-9887-9ebab592a994",
   "metadata": {},
   "outputs": [
    {
     "data": {
      "text/plain": [
       "<_io.TextIOWrapper name='ali.txt' mode='a+' encoding='cp1252'>"
      ]
     },
     "execution_count": 6,
     "metadata": {},
     "output_type": "execute_result"
    }
   ],
   "source": [
    "open(\"ali.txt\",mode='a+')"
   ]
  },
  {
   "cell_type": "markdown",
   "id": "79f5b993-5eba-4921-b8e8-7756954bd1eb",
   "metadata": {},
   "source": [
    "Buffering=0 tampona alınmadan doğrudan dosaya kaydet. Eğer ikili sistemde çalışıorsanız 0 yapamazsınız. Buff 1 ise satır satır işlenirken."
   ]
  },
  {
   "cell_type": "code",
   "execution_count": 9,
   "id": "efe56a00-2da5-4e7f-a8af-3d1175afb2f4",
   "metadata": {},
   "outputs": [],
   "source": [
    "file = open('baba.txt', 'w', buffering=1,encoding='utf-8')\n",
    "file.write('Birinci Satır\\n'); \n",
    "# w Eğer dosya varsa silinir. Sonra tekrar oluşturulr.\n",
    "# buffer 1 olursa satır satır kadeder, -1 dosyayı kapatırsanız kaydeder.\n",
    "# 0 direk kaydeder"
   ]
  },
  {
   "cell_type": "code",
   "execution_count": 10,
   "id": "f8a84225-258a-40f8-b8b5-7d9f72bdc7b9",
   "metadata": {},
   "outputs": [],
   "source": [
    "file.writelines('İkinci Satır\\n');"
   ]
  },
  {
   "cell_type": "code",
   "execution_count": 11,
   "id": "cecc2ac6-2ffc-4a2c-a9ba-be8d5cf8af1d",
   "metadata": {},
   "outputs": [
    {
     "data": {
      "text/plain": [
       "22"
      ]
     },
     "execution_count": 11,
     "metadata": {},
     "output_type": "execute_result"
    }
   ],
   "source": [
    "file.write('Üçüncü Güzel Satırlar\\n')"
   ]
  },
  {
   "cell_type": "code",
   "execution_count": 12,
   "id": "4ef8a0af-7477-4bd6-bde5-e84ae0097b83",
   "metadata": {},
   "outputs": [],
   "source": [
    "file.close()"
   ]
  },
  {
   "cell_type": "code",
   "execution_count": 13,
   "id": "0dbd57d5-30cc-4e6c-b609-ac89b6722295",
   "metadata": {},
   "outputs": [
    {
     "ename": "ValueError",
     "evalue": "I/O operation on closed file.",
     "output_type": "error",
     "traceback": [
      "\u001b[1;31m---------------------------------------------------------------------------\u001b[0m",
      "\u001b[1;31mValueError\u001b[0m                                Traceback (most recent call last)",
      "Cell \u001b[1;32mIn [13], line 1\u001b[0m\n\u001b[1;32m----> 1\u001b[0m file\u001b[39m.\u001b[39mwrite(\u001b[39m'\u001b[39m\u001b[39mDosya kapandı yazamazsın \u001b[39m\u001b[39m\\n\u001b[39;00m\u001b[39m'\u001b[39m)\n",
      "\u001b[1;31mValueError\u001b[0m: I/O operation on closed file."
     ]
    }
   ],
   "source": [
    "file.write('Dosya kapandı yazamazsın \\n')"
   ]
  },
  {
   "cell_type": "code",
   "execution_count": 14,
   "id": "eca43169-b781-470c-9245-579be5be077f",
   "metadata": {},
   "outputs": [
    {
     "data": {
      "text/plain": [
       "8192"
      ]
     },
     "execution_count": 14,
     "metadata": {},
     "output_type": "execute_result"
    }
   ],
   "source": [
    "import io\n",
    "io.DEFAULT_BUFFER_SIZE"
   ]
  },
  {
   "cell_type": "code",
   "execution_count": 15,
   "id": "a63b6fce-f598-494c-97f5-b88213e601f5",
   "metadata": {},
   "outputs": [
    {
     "data": {
      "text/plain": [
       "14"
      ]
     },
     "execution_count": 15,
     "metadata": {},
     "output_type": "execute_result"
    }
   ],
   "source": [
    "file = open('tuna.txt', 'w', buffering=-1,encoding='utf-8')\n",
    "file.write('Birinci Satır\\n') # Türkçe karakter kullanılırsa utf-8 yaz."
   ]
  },
  {
   "cell_type": "code",
   "execution_count": 16,
   "id": "e49bd342-74e3-4ab1-8d2f-9d5c641e223e",
   "metadata": {},
   "outputs": [
    {
     "data": {
      "text/plain": [
       "13"
      ]
     },
     "execution_count": 16,
     "metadata": {},
     "output_type": "execute_result"
    }
   ],
   "source": [
    "file.write('İkinci Satır\\n') # Dosya kapatılana kadar tatmpon bellekte yazılır."
   ]
  },
  {
   "cell_type": "code",
   "execution_count": 17,
   "id": "a9e5a696-fed8-4422-b07d-cf0812fce2bf",
   "metadata": {},
   "outputs": [
    {
     "data": {
      "text/plain": [
       "19"
      ]
     },
     "execution_count": 17,
     "metadata": {},
     "output_type": "execute_result"
    }
   ],
   "source": [
    "file.write('Üçüncü Güzel Satır\\n')"
   ]
  },
  {
   "cell_type": "code",
   "execution_count": 18,
   "id": "79ff1616-35cf-46dc-9ef1-5fa976792530",
   "metadata": {},
   "outputs": [],
   "source": [
    "file.close()"
   ]
  },
  {
   "cell_type": "code",
   "execution_count": 20,
   "id": "bd009437-a213-4834-8fec-2291576d8ceb",
   "metadata": {},
   "outputs": [
    {
     "data": {
      "text/plain": [
       "b'\\xc5\\x9f'"
      ]
     },
     "execution_count": 20,
     "metadata": {},
     "output_type": "execute_result"
    }
   ],
   "source": [
    " \"ş\".encode(\"utf-8\")"
   ]
  },
  {
   "cell_type": "code",
   "execution_count": 21,
   "id": "83b330f3-2b6e-4804-845c-34927b3bb8ce",
   "metadata": {},
   "outputs": [
    {
     "data": {
      "text/plain": [
       "b'\\xfe'"
      ]
     },
     "execution_count": 21,
     "metadata": {},
     "output_type": "execute_result"
    }
   ],
   "source": [
    "\"ş\".encode(\"cp1254\")"
   ]
  },
  {
   "cell_type": "code",
   "execution_count": 22,
   "id": "fc3c277d-cb84-4cf7-a6c8-6a968860df83",
   "metadata": {},
   "outputs": [
    {
     "data": {
      "text/plain": [
       "b'\\x9f'"
      ]
     },
     "execution_count": 22,
     "metadata": {},
     "output_type": "execute_result"
    }
   ],
   "source": [
    "\"ş\".encode(\"cp857\")"
   ]
  },
  {
   "cell_type": "code",
   "execution_count": 13,
   "id": "b3ff3b96-d7e6-45e9-b42b-2f6d7485c556",
   "metadata": {},
   "outputs": [
    {
     "data": {
      "text/plain": [
       "'ş'"
      ]
     },
     "execution_count": 13,
     "metadata": {},
     "output_type": "execute_result"
    }
   ],
   "source": [
    "b'\\xc5\\x9f'.decode()"
   ]
  },
  {
   "cell_type": "code",
   "execution_count": 14,
   "id": "69038a15-e710-4b16-97af-78685ef9c116",
   "metadata": {},
   "outputs": [
    {
     "ename": "UnicodeDecodeError",
     "evalue": "'utf-8' codec can't decode byte 0xfe in position 0: invalid start byte",
     "output_type": "error",
     "traceback": [
      "\u001b[1;31m---------------------------------------------------------------------------\u001b[0m",
      "\u001b[1;31mUnicodeDecodeError\u001b[0m                        Traceback (most recent call last)",
      "Input \u001b[1;32mIn [14]\u001b[0m, in \u001b[0;36m<cell line: 1>\u001b[1;34m()\u001b[0m\n\u001b[1;32m----> 1\u001b[0m \u001b[38;5;124;43mb\u001b[39;49m\u001b[38;5;124;43m'\u001b[39;49m\u001b[38;5;130;43;01m\\xfe\u001b[39;49;00m\u001b[38;5;124;43m'\u001b[39;49m\u001b[38;5;241;43m.\u001b[39;49m\u001b[43mdecode\u001b[49m\u001b[43m(\u001b[49m\u001b[43m)\u001b[49m\n",
      "\u001b[1;31mUnicodeDecodeError\u001b[0m: 'utf-8' codec can't decode byte 0xfe in position 0: invalid start byte"
     ]
    }
   ],
   "source": [
    "b'\\xfe'.decode()"
   ]
  },
  {
   "cell_type": "code",
   "execution_count": 23,
   "id": "d557bff0-7ea9-4a89-85a4-d4974d5a5ab1",
   "metadata": {},
   "outputs": [
    {
     "data": {
      "text/plain": [
       "'cp1252'"
      ]
     },
     "execution_count": 23,
     "metadata": {},
     "output_type": "execute_result"
    }
   ],
   "source": [
    "import locale\n",
    "locale.getpreferredencoding()"
   ]
  },
  {
   "cell_type": "code",
   "execution_count": 24,
   "id": "707e0681-c353-44c5-9930-3ccc6cf582bb",
   "metadata": {},
   "outputs": [],
   "source": [
    "dosya = open(\"liste.txt\",\"a\",encoding=\"utf-8\")\n",
    "dosya.writelines(\"Gülperi Şen\\n\")\n",
    "dosya.close()  # with open açılmış dosyayı işlem bitince otomatik kapatır."
   ]
  },
  {
   "cell_type": "code",
   "execution_count": 26,
   "id": "8880c353-522d-4ca2-8c62-c9ac8be2cc6f",
   "metadata": {},
   "outputs": [
    {
     "name": "stdout",
     "output_type": "stream",
     "text": [
      "\n"
     ]
    }
   ],
   "source": [
    "fihrist = open(\"untitled.txt\",encoding=\"utf-8\")\n",
    "print(fihrist.read())"
   ]
  },
  {
   "cell_type": "code",
   "execution_count": 27,
   "id": "41cb0038",
   "metadata": {},
   "outputs": [],
   "source": [
    "fihrist.close()"
   ]
  },
  {
   "cell_type": "code",
   "execution_count": 28,
   "id": "fbd99fc0-e63f-462e-aedf-3d7ceabbd6c9",
   "metadata": {},
   "outputs": [
    {
     "name": "stdout",
     "output_type": "stream",
     "text": [
      "Gülperi Şen\n",
      "Şafak Söktü\n",
      "Gülperi Şen\n",
      "Python Dersi\n",
      "Hasan Dertsiz\n",
      "Python Dersi\n",
      "Gülperi Şen\n",
      "Gülperi Şen\n",
      "Gülperi Şen\n",
      "Python Dersi\n",
      "Hasan Dertsiz\n",
      "Python DersiPython Dersi\n"
     ]
    }
   ],
   "source": [
    "with open(\"liste.txt\",\"a\",encoding=\"utf-8\") as dosya:\n",
    "    dosya.writelines(\"Python Dersi\\n\")\n",
    "\n",
    "# Okuma\n",
    "with open(\"liste.txt\",encoding='utf-8') as dosya: # dosya varsayılan olarak r modunda açıldı\n",
    "     for i in dosya:\n",
    "        print(i[:-1])  # alt satıra geçme \\n komutundan dolaı 1 satır atlıor. Önlemek için\n",
    "     #print(dosya.readlines())"
   ]
  },
  {
   "cell_type": "code",
   "execution_count": 29,
   "id": "76a83dd0-9df6-4fb6-91ee-756d67c2dfb5",
   "metadata": {},
   "outputs": [],
   "source": [
    "with open(\"liste.txt\",\"a\",encoding=\"utf-8\") as dosya:\n",
    "    dosya.writelines(\"Hasan Dertsiz\\n\")"
   ]
  },
  {
   "cell_type": "code",
   "execution_count": 30,
   "id": "f5e3d407-1340-4999-85f8-24b2db12e904",
   "metadata": {},
   "outputs": [],
   "source": [
    "with open(\"liste.txt\",encoding=\"utf-8\") as dosya: # dosya varsayılan olarak r modunda açıldı\n",
    "    a=dosya.readlines()"
   ]
  },
  {
   "cell_type": "code",
   "execution_count": 31,
   "id": "a1db2f73-6e00-4300-9827-169db79da09d",
   "metadata": {},
   "outputs": [
    {
     "name": "stdout",
     "output_type": "stream",
     "text": [
      "['Gülperi Şen\\n', 'Şafak Söktü\\n', 'Gülperi Şen\\n', 'Python Dersi\\n', 'Hasan Dertsiz\\n', 'Python Dersi\\n', 'Gülperi Şen\\n', 'Gülperi Şen\\n', 'Gülperi Şen\\n', 'Python Dersi\\n', 'Hasan Dertsiz\\n', 'Python DersiPython Dersi\\n', 'Hasan Dertsiz\\n']\n"
     ]
    }
   ],
   "source": [
    "print(a)"
   ]
  },
  {
   "cell_type": "code",
   "execution_count": 77,
   "id": "fe8cb367-491a-4d72-9223-2e82cb413905",
   "metadata": {},
   "outputs": [
    {
     "name": "stdout",
     "output_type": "stream",
     "text": [
      "['Şafak Söktü\\n', 'Gülperi Şen\\n', 'Python Dersi\\n', 'Python Dersi\\n', 'Python Dersi\\n', 'Python Dersi\\n', 'Python Dersi\\n', 'Python Dersi\\n', 'Python Dersi\\n', 'Python Dersi\\n', 'Python Dersi\\n', 'Python Dersi\\n', 'Python Dersi\\n', 'Python Dersi\\n', 'Python Dersi\\n', 'Python Dersi\\n', 'Hasan Dertsiz\\n']\n"
     ]
    }
   ],
   "source": [
    "with open(\"liste.txt\",encoding=\"utf-8\") as dosya: # dosya varsayılan olarak r modunda açıldı\n",
    "    a=dosya.readlines()\n",
    "print(a)"
   ]
  },
  {
   "cell_type": "code",
   "execution_count": 33,
   "id": "2bc68290-7798-4044-9b1d-33cbb222e638",
   "metadata": {},
   "outputs": [
    {
     "name": "stdout",
     "output_type": "stream",
     "text": [
      "[1, 4, 9, 16, 25, 36]\n",
      "36\n"
     ]
    }
   ],
   "source": [
    "liste=[1,2,3,4, 5,6]\n",
    "yeni_liste = list(map(lambda x:x**2, liste))\n",
    "print(yeni_liste)\n",
    "print(max(yeni_liste))"
   ]
  },
  {
   "cell_type": "code",
   "execution_count": 34,
   "id": "783b12a0-4495-4b23-85df-eeae9ebc6ae4",
   "metadata": {},
   "outputs": [
    {
     "name": "stdout",
     "output_type": "stream",
     "text": [
      "['Ankara\\n', 'Istanbul\\n', 'Rize\\n']\n"
     ]
    }
   ],
   "source": [
    "with open(\"deneme_file.txt\",\"w\",encoding=\"utf-8\") as file:\n",
    "    file.writelines(\"Ankara\\n\")\n",
    "    file.writelines(\"Istanbul\\n\")\n",
    "    file.writelines(\"Rize\\n\")\n",
    "    \n",
    "with open(\"deneme_file.txt\",encoding=\"utf-8\") as file:\n",
    "    print(file.readlines())"
   ]
  },
  {
   "cell_type": "code",
   "execution_count": 35,
   "id": "9360d281-538f-455b-8d1c-6bf3a032a0bb",
   "metadata": {},
   "outputs": [
    {
     "name": "stdout",
     "output_type": "stream",
     "text": [
      "Ankara\n",
      "Istanbul\n",
      "Rize\n"
     ]
    }
   ],
   "source": [
    "with open(\"deneme_file.txt\",encoding=\"utf-8\") as file:\n",
    "    for i in file:\n",
    "        print(i[:-1])"
   ]
  },
  {
   "cell_type": "code",
   "execution_count": 57,
   "id": "a9218a84-44ef-4585-9d24-4b4e70661e88",
   "metadata": {},
   "outputs": [
    {
     "data": {
      "text/plain": [
       "['Sales_April_2019.csv',\n",
       " 'Sales_August_2019.csv',\n",
       " 'Sales_December_2019.csv',\n",
       " 'Sales_February_2019.csv',\n",
       " 'Sales_March_2019.csv',\n",
       " 'Sales_May_2019.csv',\n",
       " 'Sales_November_2019.csv',\n",
       " 'Sales_October_2019.csv',\n",
       " 'Sales_September_2019.csv']"
      ]
     },
     "execution_count": 57,
     "metadata": {},
     "output_type": "execute_result"
    }
   ],
   "source": [
    "import os\n",
    "path = \"C:/Users/DELL/Pandas_Denemeler/Pandas-Data-Science-Tasks/SalesAnalysis/Sales_Data\"\n",
    "dosyalar = [dosya for dosya in os.listdir(path) if not dosya.startswith('Sales_J')] # '.' Ignore hidden files\n",
    "dosyalar"
   ]
  },
  {
   "cell_type": "code",
   "execution_count": 11,
   "id": "2e21377e-3a33-4930-b875-1961b20c7e3b",
   "metadata": {},
   "outputs": [],
   "source": [
    "# dosyalar liste olduğu için write ile yazamadık çünkü liste, writwlines kullandık.   \n",
    "with open(\"deneme_file.txt\",\"w\", encoding=\"utf-8\") as file:\n",
    "    import os\n",
    "    path = \"C:/Users/DELL/Pandas_Denemeler/Pandas-Data-Science-Tasks/SalesAnalysis/Sales_Data\"\n",
    "    dosyalar = [dosya for dosya in os.listdir(path) if not dosya.startswith('Sales_J')] # '.' Ignore hidden files\n",
    "    file.writelines(dosyalar)  # satır satır yazmaz"
   ]
  },
  {
   "cell_type": "code",
   "execution_count": 10,
   "id": "62e4b666-1db8-481c-940a-a4954b3a54c7",
   "metadata": {},
   "outputs": [],
   "source": [
    "# Eğer satır satır yazdırılırsa  \n",
    "with open(\"deneme_file.txt\",\"w\", encoding=\"utf-8\") as file:\n",
    "    path = \"C:/Users/DELL/Pandas_Denemeler/Pandas-Data-Science-Tasks/SalesAnalysis/Sales_Data\"\n",
    "    dosyalar = [dosya for dosya in os.listdir(path) if not dosya.startswith('Sales_J')] # '.' Ignore hidden files\n",
    "    for i in dosyalar:\n",
    "        file.write(i+'\\n')   #\\n kullanılmaz ise yan yana kaydeder. Writelines kullanılabilir."
   ]
  },
  {
   "cell_type": "code",
   "execution_count": 42,
   "id": "1d3ac1c1-a912-4673-8572-cfbcdcfde25c",
   "metadata": {},
   "outputs": [
    {
     "name": "stdout",
     "output_type": "stream",
     "text": [
      "GÃ¼rsel\n",
      "FÄ±rat\n",
      "TÃ¼lay\n",
      "Ã–zhan\n",
      "Ã–zkan\n",
      "Ã–zcan\n"
     ]
    }
   ],
   "source": [
    "d1 = open(\"isimler1.txt\",encoding='utf-8') # dosyayı açıyoruz\n",
    "d1_satırlar = d1.readlines() # satırları okuyoruz\n",
    "\n",
    "d2 = open(\"isimler2.txt\",encoding='utf-8')\n",
    "d2_satırlar = d2.readlines()\n",
    "\n",
    "for i in d2_satırlar:\n",
    "    if not i in d1_satırlar:  # Farklı isimler\n",
    "        print(i[:-1])\n",
    "\n",
    "d1.close()\n",
    "d2.close()"
   ]
  },
  {
   "cell_type": "code",
   "execution_count": 39,
   "id": "9d6da830-554f-4d1c-93e5-179d1e76cafb",
   "metadata": {},
   "outputs": [
    {
     "name": "stdout",
     "output_type": "stream",
     "text": [
      "GÃƒÂ¼rsel\n",
      "FÃ„Â±rat\n",
      "TÃƒÂ¼lay\n",
      "Ãƒâ€“zhan\n",
      "Ãƒâ€“zkan\n",
      "Ãƒâ€“zcan\n"
     ]
    }
   ],
   "source": [
    "d1 = open(\"isimler1.txt\",encoding='cp1254') # dosyayı açıyoruz\n",
    "d1_satırlar = d1.readlines() # satırları okuyoruz\n",
    "\n",
    "d2 = open(\"isimler2.txt\",encoding='cp1254')\n",
    "d2_satırlar = d2.readlines()\n",
    "\n",
    "for i in d2_satırlar:\n",
    "    if not i in d1_satırlar:\n",
    "        print(i[:-1])\n",
    "\n",
    "d1.close()\n",
    "d2.close()"
   ]
  },
  {
   "cell_type": "code",
   "execution_count": 43,
   "id": "e769c9ad-6e90-4880-9d26-2ce5783cbd28",
   "metadata": {},
   "outputs": [
    {
     "ename": "ModuleNotFoundError",
     "evalue": "No module named 'donusum'",
     "output_type": "error",
     "traceback": [
      "\u001b[1;31m---------------------------------------------------------------------------\u001b[0m",
      "\u001b[1;31mModuleNotFoundError\u001b[0m                       Traceback (most recent call last)",
      "Cell \u001b[1;32mIn [43], line 1\u001b[0m\n\u001b[1;32m----> 1\u001b[0m \u001b[39mimport\u001b[39;00m \u001b[39mdonusum\u001b[39;00m\n",
      "\u001b[1;31mModuleNotFoundError\u001b[0m: No module named 'donusum'"
     ]
    }
   ],
   "source": [
    "import donusum\n",
    "# donusum.py bu dosya fonksiyonların altına da kaydedildi. "
   ]
  },
  {
   "cell_type": "code",
   "execution_count": 16,
   "id": "6e73c924-4a3e-4c66-b549-944ae533d6dd",
   "metadata": {},
   "outputs": [
    {
     "name": "stdout",
     "output_type": "stream",
     "text": [
      "     0°C   32.0 °F\n",
      "     1°C   33.8 °F\n",
      "     2°C   35.6 °F\n",
      "     3°C   37.4 °F\n",
      "     4°C   39.2 °F\n"
     ]
    }
   ],
   "source": [
    "for i in range(0,5):\n",
    "    print(f\"{i:6}°C   {donusum.Santigrat_F(i):.4} °F\",end='\\n')  # alt_248\n",
    "    y= str(i)+ \"°C     \"+str(donusum.Santigrat_F(i))+\"°F\"+\" \\n \"\n",
    "    with open(\"Liste2.txt\", \"a+\",encoding=\"utf-8\",buffering=1) as f:\n",
    "        f.write(y)      "
   ]
  },
  {
   "cell_type": "code",
   "execution_count": 46,
   "id": "516d0302-c87e-4d86-a049-9658c569bad6",
   "metadata": {},
   "outputs": [
    {
     "name": "stdout",
     "output_type": "stream",
     "text": [
      "     0°C   32.0 °F\n",
      "     1°C   33.8 °F\n",
      "     2°C   35.6 °F\n",
      "     3°C   37.4 °F\n",
      "     4°C   39.2 °F\n"
     ]
    }
   ],
   "source": [
    "for i in range(0,5):\n",
    "    print(f\"{i:6}°C   {donusum.Santigrat_F(i):.4} °F\",end='\\n')  # alt_248\n",
    "    with open(\"Liste4.txt\", \"a+\",encoding=\"utf-8\",buffering=1) as f:\n",
    "        f.write('%5d %2s %5d%2s\\n' % (i,'°C',donusum.Santigrat_F(i),'°F'))"
   ]
  },
  {
   "cell_type": "code",
   "execution_count": 47,
   "id": "7c6b63e3-34d2-4fbb-9726-856e7e134fa1",
   "metadata": {},
   "outputs": [
    {
     "name": "stdout",
     "output_type": "stream",
     "text": [
      "    0 °C    32°F\n",
      "    1 °C    33°F\n",
      "    2 °C    35°F\n",
      "    3 °C    37°F\n",
      "    4 °C    39°F\n"
     ]
    }
   ],
   "source": [
    "with open(\"Liste4.txt\", \"w\",encoding=\"utf-8\",buffering=1) as f:\n",
    "     for i in range(0,5):\n",
    "        print(\"%5d %2s %5d%2s\"% (i,'°C',donusum.Santigrat_F(i),'°F')) \n",
    "        f.write('%5d %2s %5d%2s\\n' % (i,'°C',donusum.Santigrat_F(i),'°F'))"
   ]
  },
  {
   "cell_type": "markdown",
   "id": "e653089a-b93a-45fb-bb82-8e311ac579f5",
   "metadata": {},
   "source": [
    "## Dosyaları ileri geri sarmak"
   ]
  },
  {
   "cell_type": "markdown",
   "id": "a2d4c013-886a-443b-8471-3279b26f3491",
   "metadata": {},
   "source": [
    "### seek() fonksiyonu (metod)"
   ]
  },
  {
   "cell_type": "code",
   "execution_count": null,
   "id": "d1ebdfe7-ea5f-4483-975f-576bf89ab274",
   "metadata": {},
   "outputs": [],
   "source": [
    "# Dosya bir kez tamamen okunduktan sonra imleç otomatik olarak başa dönmüyor. \n",
    "# Dosyayı tekrar okumak istiyorsak, bunu başa bizim sarmamız lazım. \n",
    "# İşte bunun için seek() metodunu kullanacağız\n",
    "# f.seek(0) imleci başa sarar"
   ]
  },
  {
   "cell_type": "code",
   "execution_count": 61,
   "id": "dd1b0c98-b0df-4006-8713-855703534d9f",
   "metadata": {},
   "outputs": [
    {
     "data": {
      "text/plain": [
       "10"
      ]
     },
     "execution_count": 61,
     "metadata": {},
     "output_type": "execute_result"
    }
   ],
   "source": [
    "f=open(\"okuma.txt\")\n",
    "f.seek(10)  # İmleci 10 byte olan noktaya getirir. "
   ]
  },
  {
   "cell_type": "markdown",
   "id": "1d11d9df-b23f-43cb-abf2-43090438d74a",
   "metadata": {},
   "source": [
    "### tell() fonksiyonu (metodu)"
   ]
  },
  {
   "cell_type": "code",
   "execution_count": null,
   "id": "61e57d9f-4431-4c50-89a7-231a9880ef6d",
   "metadata": {},
   "outputs": [],
   "source": [
    "# Dosyanın hangi bayt konumunda bulunduğunuzu öğrenmek için de tell() adlı bir metottan yararlanabilirsiniz. \n",
    "# Bu metodu parametresiz olarak kullanıyoruz:"
   ]
  },
  {
   "cell_type": "code",
   "execution_count": 62,
   "id": "c5815e01-d47c-47b0-b761-3f7e75e41127",
   "metadata": {},
   "outputs": [
    {
     "data": {
      "text/plain": [
       "10"
      ]
     },
     "execution_count": 62,
     "metadata": {},
     "output_type": "execute_result"
    }
   ],
   "source": [
    "f.tell()  # İmlecin oludğu yerdeki byte değerini gösterir."
   ]
  },
  {
   "cell_type": "code",
   "execution_count": 63,
   "id": "edfcb2ce-1a64-4e9c-bf55-aa2065ee8024",
   "metadata": {},
   "outputs": [],
   "source": [
    "f.close()"
   ]
  },
  {
   "cell_type": "markdown",
   "id": "bd2c47de-7cb4-4c9b-bafe-417292113479",
   "metadata": {},
   "source": [
    "## Dosyalarda kullanılan deyimler "
   ]
  },
  {
   "cell_type": "markdown",
   "id": "40e0b54e-028c-489c-b5de-c3d4968e9f9a",
   "metadata": {},
   "source": [
    "### closed deyimi"
   ]
  },
  {
   "cell_type": "code",
   "execution_count": 81,
   "id": "f8584b86-11a5-4c64-8282-79bde1790566",
   "metadata": {},
   "outputs": [
    {
     "data": {
      "text/plain": [
       "True"
      ]
     },
     "execution_count": 81,
     "metadata": {},
     "output_type": "execute_result"
    }
   ],
   "source": [
    "f.closed  # F dosyasının kapalı olp olmadığını test eder "
   ]
  },
  {
   "cell_type": "code",
   "execution_count": 83,
   "id": "d0bd14dd-a564-4c79-a194-8c6775bc497c",
   "metadata": {},
   "outputs": [],
   "source": [
    "f=open(\"isimler1.txt\")"
   ]
  },
  {
   "cell_type": "code",
   "execution_count": 84,
   "id": "27270fd9-ac16-4765-9554-9b679445166e",
   "metadata": {},
   "outputs": [
    {
     "data": {
      "text/plain": [
       "False"
      ]
     },
     "execution_count": 84,
     "metadata": {},
     "output_type": "execute_result"
    }
   ],
   "source": [
    "f.closed "
   ]
  },
  {
   "cell_type": "code",
   "execution_count": 85,
   "id": "1a1667be-777b-40f8-ba20-bb902e6e4b48",
   "metadata": {},
   "outputs": [],
   "source": [
    "f.close()"
   ]
  },
  {
   "cell_type": "code",
   "execution_count": 86,
   "id": "57182217-b71c-4d97-898f-7622b775518a",
   "metadata": {},
   "outputs": [
    {
     "data": {
      "text/plain": [
       "True"
      ]
     },
     "execution_count": 86,
     "metadata": {},
     "output_type": "execute_result"
    }
   ],
   "source": [
    "f.closed"
   ]
  },
  {
   "cell_type": "markdown",
   "id": "7108f0e6-ef08-446c-810d-b6cc5fdb1435",
   "metadata": {
    "tags": []
   },
   "source": [
    "### readable() fonksyionu (metodu)"
   ]
  },
  {
   "cell_type": "code",
   "execution_count": 88,
   "id": "8d9e099a-4e13-46fa-986f-9bf028a61abf",
   "metadata": {},
   "outputs": [],
   "source": [
    "# Bir dosya okuma modunda açılmışsa True değeri döndürür."
   ]
  },
  {
   "cell_type": "code",
   "execution_count": 89,
   "id": "81add051-ed92-4c97-acdc-07209f72366f",
   "metadata": {},
   "outputs": [
    {
     "data": {
      "text/plain": [
       "True"
      ]
     },
     "execution_count": 89,
     "metadata": {},
     "output_type": "execute_result"
    }
   ],
   "source": [
    "f=open(\"isimler1.txt\")\n",
    "f.readable()"
   ]
  },
  {
   "cell_type": "code",
   "execution_count": 90,
   "id": "5e19a7e5-84b5-420f-a1f3-67cc3c99fc91",
   "metadata": {},
   "outputs": [
    {
     "data": {
      "text/plain": [
       "False"
      ]
     },
     "execution_count": 90,
     "metadata": {},
     "output_type": "execute_result"
    }
   ],
   "source": [
    "f.close()\n",
    "f=open(\"isimler1.txt\",\"w\")\n",
    "f.readable()"
   ]
  },
  {
   "cell_type": "code",
   "execution_count": 91,
   "id": "e91406cb-802d-475e-a702-f006b690d9ea",
   "metadata": {},
   "outputs": [],
   "source": [
    "f.close()"
   ]
  },
  {
   "cell_type": "markdown",
   "id": "3bd5cb69-acde-4733-becb-3c6bf880b9d4",
   "metadata": {},
   "source": [
    "### writable() fonksyionu (metodu)"
   ]
  },
  {
   "cell_type": "code",
   "execution_count": 92,
   "id": "0fdc266b-9226-49cc-907d-9a3d3f293164",
   "metadata": {},
   "outputs": [],
   "source": [
    "# Bir dosya yazma modunda açılmışsa True değeri döndürür."
   ]
  },
  {
   "cell_type": "code",
   "execution_count": 95,
   "id": "ead19e22-dd2b-4a15-8a5b-fa155128bc73",
   "metadata": {},
   "outputs": [
    {
     "data": {
      "text/plain": [
       "True"
      ]
     },
     "execution_count": 95,
     "metadata": {},
     "output_type": "execute_result"
    }
   ],
   "source": [
    "f=open(\"isimler1.txt\",\"w\")\n",
    "f.writable()"
   ]
  },
  {
   "cell_type": "code",
   "execution_count": 96,
   "id": "d85d759d-d0dc-4b68-9ca4-83bceecd593e",
   "metadata": {},
   "outputs": [],
   "source": [
    "f.close()"
   ]
  },
  {
   "cell_type": "markdown",
   "id": "a175347e-6a97-4621-b791-a7b2fb09c9e6",
   "metadata": {},
   "source": [
    "### truncate() fonksiyonu (metodu)"
   ]
  },
  {
   "cell_type": "code",
   "execution_count": 101,
   "id": "c58b9424-774d-4f20-b2b2-3cffb17a7b75",
   "metadata": {},
   "outputs": [],
   "source": [
    "#    truncate fonksionu kırpmak anlamındadır. \n",
    "#    Dosyayı istediğimiz boyuta kırparak getiriyoruz."
   ]
  },
  {
   "cell_type": "code",
   "execution_count": 103,
   "id": "030897b3-c1cf-4344-95ed-4dd47b007846",
   "metadata": {},
   "outputs": [],
   "source": [
    "with open(\"ali.txt\", \"r+\") as f:\n",
    "    f.truncate()  # Bütün dosyayı \"w\" modu gibi isler."
   ]
  },
  {
   "cell_type": "code",
   "execution_count": 49,
   "id": "e437d763-f69f-4bf2-8471-a9f451e15933",
   "metadata": {},
   "outputs": [],
   "source": [
    "with open(\"baba.txt\", \"r+\") as f:\n",
    "    f.truncate(13)   # 13 byte sonrasını siler"
   ]
  },
  {
   "cell_type": "code",
   "execution_count": 48,
   "id": "4ce13aa5-5e72-4a86-adf6-f04727d3761b",
   "metadata": {},
   "outputs": [],
   "source": [
    "# Dosyanın boyutunu ayarlıyoruz.\n",
    "f = open(\"baba.txt\", \"r+\")\n",
    "f.truncate(1024*3)\n",
    "f.close()"
   ]
  },
  {
   "cell_type": "markdown",
   "id": "7073a56b-ebf9-4a4d-b64b-c9db3e5a57f3",
   "metadata": {},
   "source": [
    "### mode, name, encoding değimi"
   ]
  },
  {
   "cell_type": "code",
   "execution_count": 124,
   "id": "6d8f7057-adaf-452d-a1a3-d2c528b27fa2",
   "metadata": {},
   "outputs": [
    {
     "data": {
      "text/plain": [
       "'r+'"
      ]
     },
     "execution_count": 124,
     "metadata": {},
     "output_type": "execute_result"
    }
   ],
   "source": [
    "f.mode"
   ]
  },
  {
   "cell_type": "code",
   "execution_count": 66,
   "id": "c5f17b5e-ae7e-41a0-9ef7-e78da14ac575",
   "metadata": {},
   "outputs": [],
   "source": [
    "with open(\"baba.txt\", \"r+\",encoding='utf-8') as f:\n",
    "    veri = f.readlines()\n",
    "    veri.insert(2, \"Cemal Turşucu\\t0322 234 45 45\\n\")\n",
    "    f.seek(20)\n",
    "    f.writelines(veri)"
   ]
  },
  {
   "cell_type": "code",
   "execution_count": 67,
   "id": "6043d0c9-dcc7-4dda-a608-8cf62f25e307",
   "metadata": {},
   "outputs": [
    {
     "data": {
      "text/plain": [
       "['Birinci Satır\\n',\n",
       " 'İkiBirinci Satır\\n',\n",
       " 'Cemal Turşucu\\t0322 234 45 45\\n',\n",
       " 'İkinci Satır\\n',\n",
       " 'Üçüncü Güzel Satırlar\\n',\n",
       " 'Cemal Turşucu\\t0322 234 45 45\\n']"
      ]
     },
     "execution_count": 67,
     "metadata": {},
     "output_type": "execute_result"
    }
   ],
   "source": [
    "veri"
   ]
  },
  {
   "cell_type": "code",
   "execution_count": 73,
   "id": "b405641e-9971-4476-b8f2-62b7e54d1522",
   "metadata": {},
   "outputs": [],
   "source": [
    "with open(\"baba.txt\", \"r+\") as f:\n",
    "    f.readline()\n",
    "    f.readline()\n",
    "    f.seek(f.tell())\n",
    "    f.truncate()"
   ]
  },
  {
   "cell_type": "code",
   "execution_count": null,
   "id": "665b30b9-91fd-4752-9f6d-a56133729a8b",
   "metadata": {},
   "outputs": [],
   "source": []
  }
 ],
 "metadata": {
  "kernelspec": {
   "display_name": "Python 3.10.7 64-bit",
   "language": "python",
   "name": "python3"
  },
  "language_info": {
   "codemirror_mode": {
    "name": "ipython",
    "version": 3
   },
   "file_extension": ".py",
   "mimetype": "text/x-python",
   "name": "python",
   "nbconvert_exporter": "python",
   "pygments_lexer": "ipython3",
   "version": "3.10.7"
  },
  "vscode": {
   "interpreter": {
    "hash": "cdd283f903e465d9ed7feba5317d294ff02d0d50270105dbb772246178790984"
   }
  }
 },
 "nbformat": 4,
 "nbformat_minor": 5
}
